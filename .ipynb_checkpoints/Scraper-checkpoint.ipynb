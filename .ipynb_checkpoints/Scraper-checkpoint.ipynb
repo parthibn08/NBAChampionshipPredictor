{
 "cells": [
  {
   "cell_type": "code",
   "execution_count": 90,
   "id": "884c6ac1-05f9-4e28-ae0b-4cf483c0eeaf",
   "metadata": {},
   "outputs": [],
   "source": [
    "from bs4 import BeautifulSoup, Comment\n",
    "\n",
    "import requests"
   ]
  },
  {
   "cell_type": "code",
   "execution_count": 92,
   "id": "24c26e11-2cab-42a6-bf16-7aee6e2a187c",
   "metadata": {},
   "outputs": [],
   "source": [
    "url = 'https://www.basketball-reference.com/teams/BOS/2024.html'\n",
    "\n",
    "page = requests.get(url)\n",
    "\n",
    "soup = BeautifulSoup(page.text, 'html')\n",
    "\n",
    "# print(soup)"
   ]
  },
  {
   "cell_type": "code",
   "execution_count": 96,
   "id": "7007a75c-f4f9-4372-9ed8-256a4f0d3ef8",
   "metadata": {},
   "outputs": [],
   "source": [
    "# Assuming soup is your BeautifulSoup object\n",
    "div_tag = soup.find('div', id='all_team_and_opponent')\n",
    "\n",
    "comments = div_tag.find_all(string=lambda text: isinstance(text, Comment))\n",
    "\n",
    "for comment in comments:\n",
    "    if 'div_team_and_opponent' in comment:\n",
    "        # Parse the commented content with BeautifulSoup\n",
    "        commented_soup = BeautifulSoup(comment, 'html.parser')\n",
    "        div_tag = commented_soup.find('div', id='div_team_and_opponent')\n",
    "        # Print or work with the tag\n"
   ]
  },
  {
   "cell_type": "code",
   "execution_count": 148,
   "id": "1cba952d-5282-41c2-90ae-53705448b0f7",
   "metadata": {},
   "outputs": [
    {
     "name": "stdout",
     "output_type": "stream",
     "text": [
      "<tr><th class=\"left\" data-stat=\"player\" scope=\"row\">Team</th><td class=\"center\" data-stat=\"g\">82</td><td class=\"center\" data-stat=\"mp\">19830</td><td class=\"center\" data-stat=\"fg\">3601</td><td class=\"center\" data-stat=\"fga\">7396</td><td class=\"center\" data-stat=\"fg_pct\">.487</td><td class=\"center\" data-stat=\"fg3\">1351</td><td class=\"center\" data-stat=\"fg3a\">3482</td><td class=\"center\" data-stat=\"fg3_pct\">.388</td><td class=\"center\" data-stat=\"fg2\">2250</td><td class=\"center\" data-stat=\"fg2a\">3914</td><td class=\"center\" data-stat=\"fg2_pct\">.575</td><td class=\"center\" data-stat=\"ft\">1334</td><td class=\"center\" data-stat=\"fta\">1654</td><td class=\"center\" data-stat=\"ft_pct\">.807</td><td class=\"center\" data-stat=\"orb\">876</td><td class=\"center\" data-stat=\"drb\">2923</td><td class=\"center\" data-stat=\"trb\">3799</td><td class=\"center\" data-stat=\"ast\">2207</td><td class=\"center\" data-stat=\"stl\">557</td><td class=\"center\" data-stat=\"blk\">538</td><td class=\"center\" data-stat=\"tov\">979</td><td class=\"center\" data-stat=\"pf\">1326</td><td class=\"center\" data-stat=\"pts\">9887</td></tr>\n"
     ]
    }
   ],
   "source": [
    "# print(div_tag)\n",
    "tbody = div_tag.find_all('tbody')\n",
    "tr = tbody[0].find_all('tr')\n",
    "print(tr[0])"
   ]
  }
 ],
 "metadata": {
  "kernelspec": {
   "display_name": "Python 3 (ipykernel)",
   "language": "python",
   "name": "python3"
  },
  "language_info": {
   "codemirror_mode": {
    "name": "ipython",
    "version": 3
   },
   "file_extension": ".py",
   "mimetype": "text/x-python",
   "name": "python",
   "nbconvert_exporter": "python",
   "pygments_lexer": "ipython3",
   "version": "3.12.4"
  }
 },
 "nbformat": 4,
 "nbformat_minor": 5
}
