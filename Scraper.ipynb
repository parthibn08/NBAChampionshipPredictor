{
 "cells": [
  {
   "cell_type": "code",
   "execution_count": 180,
   "id": "884c6ac1-05f9-4e28-ae0b-4cf483c0eeaf",
   "metadata": {},
   "outputs": [],
   "source": [
    "from bs4 import BeautifulSoup, Comment\n",
    "import pandas as pd\n",
    "\n",
    "import requests"
   ]
  },
  {
   "cell_type": "code",
   "execution_count": 92,
   "id": "24c26e11-2cab-42a6-bf16-7aee6e2a187c",
   "metadata": {},
   "outputs": [],
   "source": [
    "url = 'https://www.basketball-reference.com/teams/BOS/2024.html'\n",
    "\n",
    "page = requests.get(url)\n",
    "\n",
    "soup = BeautifulSoup(page.text, 'html')\n",
    "\n",
    "# print(soup)"
   ]
  },
  {
   "cell_type": "code",
   "execution_count": 172,
   "id": "7007a75c-f4f9-4372-9ed8-256a4f0d3ef8",
   "metadata": {},
   "outputs": [],
   "source": [
    "# Parsing Commented Out Portion\n",
    "div_tag = soup.find('div', id='all_team_and_opponent')\n",
    "\n",
    "comments = div_tag.find_all(string=lambda text: isinstance(text, Comment))\n",
    "\n",
    "for comment in comments:\n",
    "    if 'div_team_and_opponent' in comment:\n",
    "        # Parse the commented content with BeautifulSoup\n",
    "        commented_soup = BeautifulSoup(comment, 'html.parser')\n",
    "        div_tag = commented_soup.find('div', id='div_team_and_opponent')\n",
    "        # Print or work with the tag\n"
   ]
  },
  {
   "cell_type": "code",
   "execution_count": 224,
   "id": "bce9a7aa-bb51-45ea-9135-bb720b2edc06",
   "metadata": {},
   "outputs": [
    {
     "name": "stdout",
     "output_type": "stream",
     "text": [
      "Empty DataFrame\n",
      "Columns: [ , G, MP, FG, FGA, FG%, 3P, 3PA, 3P%, 2P, 2PA, 2P%, FT, FTA, FT%, ORB, DRB, TRB, AST, STL, BLK, TOV, PF, PTS]\n",
      "Index: []\n",
      "\n",
      "[0 rows x 24 columns]\n"
     ]
    }
   ],
   "source": [
    "# Getting Stat Header Row and Turning into DF\n",
    "stats = div_tag.find_all('thead')\n",
    "th = stats[0].find_all('th')\n",
    "stats_row = [stat.text for stat in th]\n",
    "df = pd.DataFrame(columns = stats_row)\n",
    "print(df)"
   ]
  },
  {
   "cell_type": "code",
   "execution_count": 268,
   "id": "edcecbdd-4281-420b-b14e-14d8f91cb963",
   "metadata": {},
   "outputs": [
    {
     "name": "stdout",
     "output_type": "stream",
     "text": [
      "['82', '19830', '3601', '7396', '.487', '1351', '3482', '.388', '2250', '3914', '.575', '1334', '1654', '.807', '876', '2923', '3799', '2207', '557', '538', '979', '1326', '9887']\n"
     ]
    }
   ],
   "source": [
    "# Assuming div_tag is defined and contains the desired <div>\n",
    "tbody = div_tag.find_all('tbody')\n",
    "\n",
    "# Ensure that tbody exists and has at least one <tr>\n",
    "if tbody and len(tbody) > 0:\n",
    "    tr = tbody[0].find_all('tr')\n",
    "\n",
    "    # Ensure that tr exists and has at least one row\n",
    "    if tr and len(tr) > 0:\n",
    "        td = tr[0].find_all('td')\n",
    "\n",
    "        # Extract the text from each <td> element\n",
    "        row1 = [cell.text.strip() for cell in td]  # Use cell.text.strip() for cleaner output\n",
    "\n",
    "        # Print the row\n",
    "        print(row1)\n",
    "    else:\n",
    "        print(\"No rows found in tbody.\")\n",
    "else:\n",
    "    print(\"No tbody found in div_tag.\")\n"
   ]
  }
 ],
 "metadata": {
  "kernelspec": {
   "display_name": "Python 3 (ipykernel)",
   "language": "python",
   "name": "python3"
  },
  "language_info": {
   "codemirror_mode": {
    "name": "ipython",
    "version": 3
   },
   "file_extension": ".py",
   "mimetype": "text/x-python",
   "name": "python",
   "nbconvert_exporter": "python",
   "pygments_lexer": "ipython3",
   "version": "3.12.4"
  }
 },
 "nbformat": 4,
 "nbformat_minor": 5
}
